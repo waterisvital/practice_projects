{
 "cells": [
  {
   "cell_type": "code",
   "execution_count": 1,
   "metadata": {},
   "outputs": [],
   "source": [
    "import pandas as pd\n",
    "import numpy as np\n",
    "import seaborn as sns\n",
    "import matplotlib.pyplot as plt\n",
    "from sklearn.model_selection import train_test_split"
   ]
  },
  {
   "cell_type": "code",
   "execution_count": 2,
   "metadata": {},
   "outputs": [],
   "source": [
    "df = pd.read_csv('C:\\\\Users\\\\Usuario\\\\Desktop\\\\Data Science\\\\projects\\\\bankrupcy\\\\data\\\\bankruptcy_data_red.txt',sep=\"\\t\")"
   ]
  },
  {
   "cell_type": "code",
   "execution_count": 3,
   "metadata": {},
   "outputs": [
    {
     "data": {
      "text/html": [
       "<div>\n",
       "<style scoped>\n",
       "    .dataframe tbody tr th:only-of-type {\n",
       "        vertical-align: middle;\n",
       "    }\n",
       "\n",
       "    .dataframe tbody tr th {\n",
       "        vertical-align: top;\n",
       "    }\n",
       "\n",
       "    .dataframe thead th {\n",
       "        text-align: right;\n",
       "    }\n",
       "</style>\n",
       "<table border=\"1\" class=\"dataframe\">\n",
       "  <thead>\n",
       "    <tr style=\"text-align: right;\">\n",
       "      <th></th>\n",
       "      <th>Attr1</th>\n",
       "      <th>Attr2</th>\n",
       "      <th>Attr3</th>\n",
       "      <th>Attr4</th>\n",
       "      <th>Attr5</th>\n",
       "      <th>Attr6</th>\n",
       "      <th>Attr7</th>\n",
       "      <th>Attr8</th>\n",
       "      <th>Attr9</th>\n",
       "      <th>Attr10</th>\n",
       "      <th>...</th>\n",
       "      <th>Attr56</th>\n",
       "      <th>Attr57</th>\n",
       "      <th>Attr58</th>\n",
       "      <th>Attr59</th>\n",
       "      <th>Attr60</th>\n",
       "      <th>Attr61</th>\n",
       "      <th>Attr62</th>\n",
       "      <th>Attr63</th>\n",
       "      <th>Attr64</th>\n",
       "      <th>class</th>\n",
       "    </tr>\n",
       "  </thead>\n",
       "  <tbody>\n",
       "    <tr>\n",
       "      <th>0</th>\n",
       "      <td>-0.024818</td>\n",
       "      <td>0.71357</td>\n",
       "      <td>0.011494</td>\n",
       "      <td>1.01710</td>\n",
       "      <td>-50.630</td>\n",
       "      <td>0.026313</td>\n",
       "      <td>-0.026041</td>\n",
       "      <td>0.33538</td>\n",
       "      <td>1.00710</td>\n",
       "      <td>0.23932</td>\n",
       "      <td>...</td>\n",
       "      <td>0.007014</td>\n",
       "      <td>-0.103700</td>\n",
       "      <td>0.99299</td>\n",
       "      <td>0.168380</td>\n",
       "      <td>8.8617</td>\n",
       "      <td>3.3731</td>\n",
       "      <td>159.320</td>\n",
       "      <td>2.2910</td>\n",
       "      <td>4.89320</td>\n",
       "      <td>False</td>\n",
       "    </tr>\n",
       "    <tr>\n",
       "      <th>1</th>\n",
       "      <td>0.034863</td>\n",
       "      <td>0.84016</td>\n",
       "      <td>0.034027</td>\n",
       "      <td>1.04400</td>\n",
       "      <td>-46.524</td>\n",
       "      <td>0.039624</td>\n",
       "      <td>0.045527</td>\n",
       "      <td>0.14549</td>\n",
       "      <td>1.07780</td>\n",
       "      <td>0.12223</td>\n",
       "      <td>...</td>\n",
       "      <td>0.072177</td>\n",
       "      <td>0.285220</td>\n",
       "      <td>0.92782</td>\n",
       "      <td>0.542270</td>\n",
       "      <td>12.5700</td>\n",
       "      <td>2.6342</td>\n",
       "      <td>184.670</td>\n",
       "      <td>1.9765</td>\n",
       "      <td>7.96250</td>\n",
       "      <td>False</td>\n",
       "    </tr>\n",
       "    <tr>\n",
       "      <th>2</th>\n",
       "      <td>0.000036</td>\n",
       "      <td>0.24753</td>\n",
       "      <td>-0.074702</td>\n",
       "      <td>0.67349</td>\n",
       "      <td>-172.220</td>\n",
       "      <td>0.000000</td>\n",
       "      <td>0.000496</td>\n",
       "      <td>3.03990</td>\n",
       "      <td>0.32119</td>\n",
       "      <td>0.75247</td>\n",
       "      <td>...</td>\n",
       "      <td>-0.030015</td>\n",
       "      <td>0.000047</td>\n",
       "      <td>0.99852</td>\n",
       "      <td>0.024725</td>\n",
       "      <td>4.1558</td>\n",
       "      <td>5.0704</td>\n",
       "      <td>259.990</td>\n",
       "      <td>1.4039</td>\n",
       "      <td>0.37970</td>\n",
       "      <td>False</td>\n",
       "    </tr>\n",
       "    <tr>\n",
       "      <th>3</th>\n",
       "      <td>0.131430</td>\n",
       "      <td>0.42451</td>\n",
       "      <td>0.351830</td>\n",
       "      <td>2.10580</td>\n",
       "      <td>17.183</td>\n",
       "      <td>-0.021353</td>\n",
       "      <td>0.164370</td>\n",
       "      <td>1.35560</td>\n",
       "      <td>2.47240</td>\n",
       "      <td>0.57549</td>\n",
       "      <td>...</td>\n",
       "      <td>0.158330</td>\n",
       "      <td>0.228380</td>\n",
       "      <td>0.82010</td>\n",
       "      <td>0.084060</td>\n",
       "      <td>10.2520</td>\n",
       "      <td>5.9206</td>\n",
       "      <td>46.973</td>\n",
       "      <td>7.7704</td>\n",
       "      <td>7.49270</td>\n",
       "      <td>True</td>\n",
       "    </tr>\n",
       "    <tr>\n",
       "      <th>4</th>\n",
       "      <td>0.005132</td>\n",
       "      <td>0.33327</td>\n",
       "      <td>0.158220</td>\n",
       "      <td>1.61240</td>\n",
       "      <td>5.195</td>\n",
       "      <td>0.011155</td>\n",
       "      <td>0.006809</td>\n",
       "      <td>1.56750</td>\n",
       "      <td>0.99607</td>\n",
       "      <td>0.52240</td>\n",
       "      <td>...</td>\n",
       "      <td>-0.003949</td>\n",
       "      <td>0.009823</td>\n",
       "      <td>1.00390</td>\n",
       "      <td>0.143370</td>\n",
       "      <td>23.5960</td>\n",
       "      <td>17.1920</td>\n",
       "      <td>36.118</td>\n",
       "      <td>10.1060</td>\n",
       "      <td>4.47560</td>\n",
       "      <td>False</td>\n",
       "    </tr>\n",
       "    <tr>\n",
       "      <th>...</th>\n",
       "      <td>...</td>\n",
       "      <td>...</td>\n",
       "      <td>...</td>\n",
       "      <td>...</td>\n",
       "      <td>...</td>\n",
       "      <td>...</td>\n",
       "      <td>...</td>\n",
       "      <td>...</td>\n",
       "      <td>...</td>\n",
       "      <td>...</td>\n",
       "      <td>...</td>\n",
       "      <td>...</td>\n",
       "      <td>...</td>\n",
       "      <td>...</td>\n",
       "      <td>...</td>\n",
       "      <td>...</td>\n",
       "      <td>...</td>\n",
       "      <td>...</td>\n",
       "      <td>...</td>\n",
       "      <td>...</td>\n",
       "      <td>...</td>\n",
       "    </tr>\n",
       "    <tr>\n",
       "      <th>1427</th>\n",
       "      <td>0.072320</td>\n",
       "      <td>0.43516</td>\n",
       "      <td>0.574720</td>\n",
       "      <td>6.47530</td>\n",
       "      <td>29.036</td>\n",
       "      <td>0.206750</td>\n",
       "      <td>0.090630</td>\n",
       "      <td>1.10800</td>\n",
       "      <td>1.09710</td>\n",
       "      <td>0.48215</td>\n",
       "      <td>...</td>\n",
       "      <td>0.088492</td>\n",
       "      <td>0.149990</td>\n",
       "      <td>0.91151</td>\n",
       "      <td>0.684830</td>\n",
       "      <td>1.7219</td>\n",
       "      <td>13.8210</td>\n",
       "      <td>43.640</td>\n",
       "      <td>8.3638</td>\n",
       "      <td>2.74080</td>\n",
       "      <td>False</td>\n",
       "    </tr>\n",
       "    <tr>\n",
       "      <th>1428</th>\n",
       "      <td>0.141120</td>\n",
       "      <td>0.40753</td>\n",
       "      <td>0.233910</td>\n",
       "      <td>2.72080</td>\n",
       "      <td>13.384</td>\n",
       "      <td>0.000000</td>\n",
       "      <td>0.176990</td>\n",
       "      <td>1.45380</td>\n",
       "      <td>1.44000</td>\n",
       "      <td>0.59247</td>\n",
       "      <td>...</td>\n",
       "      <td>0.133430</td>\n",
       "      <td>0.238180</td>\n",
       "      <td>0.87865</td>\n",
       "      <td>0.458420</td>\n",
       "      <td>20.9570</td>\n",
       "      <td>10.5680</td>\n",
       "      <td>34.456</td>\n",
       "      <td>10.5930</td>\n",
       "      <td>2.28520</td>\n",
       "      <td>False</td>\n",
       "    </tr>\n",
       "    <tr>\n",
       "      <th>1429</th>\n",
       "      <td>-0.025475</td>\n",
       "      <td>0.58861</td>\n",
       "      <td>0.384030</td>\n",
       "      <td>3.48290</td>\n",
       "      <td>27.144</td>\n",
       "      <td>0.000110</td>\n",
       "      <td>-0.025937</td>\n",
       "      <td>0.69893</td>\n",
       "      <td>2.26090</td>\n",
       "      <td>0.41139</td>\n",
       "      <td>...</td>\n",
       "      <td>0.001675</td>\n",
       "      <td>-0.061923</td>\n",
       "      <td>1.01140</td>\n",
       "      <td>0.980270</td>\n",
       "      <td>10.7860</td>\n",
       "      <td>7.9739</td>\n",
       "      <td>24.970</td>\n",
       "      <td>14.6180</td>\n",
       "      <td>4.90130</td>\n",
       "      <td>False</td>\n",
       "    </tr>\n",
       "    <tr>\n",
       "      <th>1430</th>\n",
       "      <td>0.090549</td>\n",
       "      <td>0.76430</td>\n",
       "      <td>0.922250</td>\n",
       "      <td>18.27700</td>\n",
       "      <td>91.384</td>\n",
       "      <td>0.079891</td>\n",
       "      <td>0.111610</td>\n",
       "      <td>0.29637</td>\n",
       "      <td>0.98557</td>\n",
       "      <td>0.22652</td>\n",
       "      <td>...</td>\n",
       "      <td>-0.014645</td>\n",
       "      <td>0.399740</td>\n",
       "      <td>1.01460</td>\n",
       "      <td>3.138500</td>\n",
       "      <td>1.5538</td>\n",
       "      <td>3.9591</td>\n",
       "      <td>19.069</td>\n",
       "      <td>19.1410</td>\n",
       "      <td>41.92400</td>\n",
       "      <td>False</td>\n",
       "    </tr>\n",
       "    <tr>\n",
       "      <th>1431</th>\n",
       "      <td>-0.055783</td>\n",
       "      <td>0.44968</td>\n",
       "      <td>-0.038091</td>\n",
       "      <td>0.86540</td>\n",
       "      <td>-237.950</td>\n",
       "      <td>0.000000</td>\n",
       "      <td>-0.055783</td>\n",
       "      <td>1.22380</td>\n",
       "      <td>0.53560</td>\n",
       "      <td>0.55032</td>\n",
       "      <td>...</td>\n",
       "      <td>0.342030</td>\n",
       "      <td>-0.101360</td>\n",
       "      <td>0.69621</td>\n",
       "      <td>0.282530</td>\n",
       "      <td>4.0415</td>\n",
       "      <td>5.1453</td>\n",
       "      <td>192.860</td>\n",
       "      <td>1.8925</td>\n",
       "      <td>0.70932</td>\n",
       "      <td>False</td>\n",
       "    </tr>\n",
       "  </tbody>\n",
       "</table>\n",
       "<p>1432 rows × 65 columns</p>\n",
       "</div>"
      ],
      "text/plain": [
       "         Attr1    Attr2     Attr3     Attr4    Attr5     Attr6     Attr7  \\\n",
       "0    -0.024818  0.71357  0.011494   1.01710  -50.630  0.026313 -0.026041   \n",
       "1     0.034863  0.84016  0.034027   1.04400  -46.524  0.039624  0.045527   \n",
       "2     0.000036  0.24753 -0.074702   0.67349 -172.220  0.000000  0.000496   \n",
       "3     0.131430  0.42451  0.351830   2.10580   17.183 -0.021353  0.164370   \n",
       "4     0.005132  0.33327  0.158220   1.61240    5.195  0.011155  0.006809   \n",
       "...        ...      ...       ...       ...      ...       ...       ...   \n",
       "1427  0.072320  0.43516  0.574720   6.47530   29.036  0.206750  0.090630   \n",
       "1428  0.141120  0.40753  0.233910   2.72080   13.384  0.000000  0.176990   \n",
       "1429 -0.025475  0.58861  0.384030   3.48290   27.144  0.000110 -0.025937   \n",
       "1430  0.090549  0.76430  0.922250  18.27700   91.384  0.079891  0.111610   \n",
       "1431 -0.055783  0.44968 -0.038091   0.86540 -237.950  0.000000 -0.055783   \n",
       "\n",
       "        Attr8    Attr9   Attr10  ...    Attr56    Attr57   Attr58    Attr59  \\\n",
       "0     0.33538  1.00710  0.23932  ...  0.007014 -0.103700  0.99299  0.168380   \n",
       "1     0.14549  1.07780  0.12223  ...  0.072177  0.285220  0.92782  0.542270   \n",
       "2     3.03990  0.32119  0.75247  ... -0.030015  0.000047  0.99852  0.024725   \n",
       "3     1.35560  2.47240  0.57549  ...  0.158330  0.228380  0.82010  0.084060   \n",
       "4     1.56750  0.99607  0.52240  ... -0.003949  0.009823  1.00390  0.143370   \n",
       "...       ...      ...      ...  ...       ...       ...      ...       ...   \n",
       "1427  1.10800  1.09710  0.48215  ...  0.088492  0.149990  0.91151  0.684830   \n",
       "1428  1.45380  1.44000  0.59247  ...  0.133430  0.238180  0.87865  0.458420   \n",
       "1429  0.69893  2.26090  0.41139  ...  0.001675 -0.061923  1.01140  0.980270   \n",
       "1430  0.29637  0.98557  0.22652  ... -0.014645  0.399740  1.01460  3.138500   \n",
       "1431  1.22380  0.53560  0.55032  ...  0.342030 -0.101360  0.69621  0.282530   \n",
       "\n",
       "       Attr60   Attr61   Attr62   Attr63    Attr64  class  \n",
       "0      8.8617   3.3731  159.320   2.2910   4.89320  False  \n",
       "1     12.5700   2.6342  184.670   1.9765   7.96250  False  \n",
       "2      4.1558   5.0704  259.990   1.4039   0.37970  False  \n",
       "3     10.2520   5.9206   46.973   7.7704   7.49270   True  \n",
       "4     23.5960  17.1920   36.118  10.1060   4.47560  False  \n",
       "...       ...      ...      ...      ...       ...    ...  \n",
       "1427   1.7219  13.8210   43.640   8.3638   2.74080  False  \n",
       "1428  20.9570  10.5680   34.456  10.5930   2.28520  False  \n",
       "1429  10.7860   7.9739   24.970  14.6180   4.90130  False  \n",
       "1430   1.5538   3.9591   19.069  19.1410  41.92400  False  \n",
       "1431   4.0415   5.1453  192.860   1.8925   0.70932  False  \n",
       "\n",
       "[1432 rows x 65 columns]"
      ]
     },
     "execution_count": 3,
     "metadata": {},
     "output_type": "execute_result"
    }
   ],
   "source": [
    "df"
   ]
  },
  {
   "cell_type": "code",
   "execution_count": 4,
   "metadata": {},
   "outputs": [],
   "source": [
    "X = df.drop(\"class\",axis=1)\n",
    "y = df[\"class\"]"
   ]
  },
  {
   "cell_type": "code",
   "execution_count": 5,
   "metadata": {},
   "outputs": [],
   "source": [
    "# separo mi data\n",
    "X_train, X_test, y_train, y_test = train_test_split(X,y,test_size = 300, random_state=42)"
   ]
  },
  {
   "cell_type": "markdown",
   "metadata": {},
   "source": [
    "# MODELO DE BAYES INGENUO"
   ]
  },
  {
   "cell_type": "code",
   "execution_count": 6,
   "metadata": {},
   "outputs": [],
   "source": [
    "from sklearn.naive_bayes import GaussianNB"
   ]
  },
  {
   "cell_type": "code",
   "execution_count": 7,
   "metadata": {},
   "outputs": [],
   "source": [
    "# modelo de bayes ingenuo gausseano con var_smoothing=1 para resolver el problema de probabilidad cero\n",
    "clf = GaussianNB(var_smoothing=1)\n",
    "clf.fit(X_train, y_train)\n",
    "y_pred = clf.predict(X_test)\n",
    "y_pred_train = clf.predict(X_train)"
   ]
  },
  {
   "cell_type": "code",
   "execution_count": 8,
   "metadata": {},
   "outputs": [],
   "source": [
    "from sklearn import metrics"
   ]
  },
  {
   "cell_type": "code",
   "execution_count": 9,
   "metadata": {},
   "outputs": [
    {
     "name": "stdout",
     "output_type": "stream",
     "text": [
      "Accuracy: 0.7266666666666667\n"
     ]
    }
   ],
   "source": [
    "print(\"Accuracy:\",metrics.accuracy_score(y_test, y_pred))"
   ]
  },
  {
   "cell_type": "code",
   "execution_count": 10,
   "metadata": {},
   "outputs": [
    {
     "name": "stdout",
     "output_type": "stream",
     "text": [
      "Accuracy: 0.6952296819787986\n"
     ]
    }
   ],
   "source": [
    "print(\"Accuracy:\",metrics.accuracy_score(y_train,y_pred_train))"
   ]
  },
  {
   "cell_type": "markdown",
   "metadata": {},
   "source": [
    "# MODELO DE KNN"
   ]
  },
  {
   "cell_type": "code",
   "execution_count": 11,
   "metadata": {},
   "outputs": [],
   "source": [
    "from sklearn.neighbors import KNeighborsClassifier"
   ]
  },
  {
   "cell_type": "code",
   "execution_count": 12,
   "metadata": {},
   "outputs": [],
   "source": [
    "num_neighbors = [1,5,10,50]\n",
    "knn = None\n",
    "result = []"
   ]
  },
  {
   "cell_type": "code",
   "execution_count": 13,
   "metadata": {},
   "outputs": [],
   "source": [
    "# pruebo valores de 1,5,10 vecinos cercanos y evaluo cual ajusta mejor a train y a test\n",
    "for num in num_neighbors:\n",
    "    knn = KNeighborsClassifier(num)\n",
    "    knn.fit(X_train,y_train)\n",
    "    y_pred = knn.predict(X_test)\n",
    "    result.append(y_pred)"
   ]
  },
  {
   "cell_type": "code",
   "execution_count": 14,
   "metadata": {},
   "outputs": [],
   "source": [
    "y_pred_1 = result[0]\n",
    "y_pred_5 = result[1]\n",
    "y_pred_10 = result[2]\n",
    "y_pred_50 = result[3]"
   ]
  },
  {
   "cell_type": "code",
   "execution_count": 15,
   "metadata": {},
   "outputs": [
    {
     "name": "stdout",
     "output_type": "stream",
     "text": [
      "Accuracy with 1 neighbor: 0.6866666666666666\n",
      "Accuracy with 5 neighbors: 0.73\n",
      "Accuracy with 10 neighbors: 0.7433333333333333\n",
      "Accuracy with 50 neighbors: 0.7566666666666667\n"
     ]
    }
   ],
   "source": [
    "# acurracy for different num of neighbors on test set\n",
    "print(\"Accuracy with 1 neighbor:\",metrics.accuracy_score(y_test, y_pred_1))\n",
    "print(\"Accuracy with 5 neighbors:\",metrics.accuracy_score(y_test, y_pred_5))\n",
    "print(\"Accuracy with 10 neighbors:\",metrics.accuracy_score(y_test, y_pred_10))\n",
    "print(\"Accuracy with 50 neighbors:\",metrics.accuracy_score(y_test, y_pred_50))"
   ]
  },
  {
   "cell_type": "code",
   "execution_count": 16,
   "metadata": {},
   "outputs": [],
   "source": [
    "result = []"
   ]
  },
  {
   "cell_type": "code",
   "execution_count": 17,
   "metadata": {},
   "outputs": [],
   "source": [
    "# accuracy for train data for different neighbors\n",
    "for num in num_neighbors:\n",
    "    knn = KNeighborsClassifier(num)\n",
    "    knn.fit(X_train,y_train)\n",
    "    y_pred = knn.predict(X_train)\n",
    "    result.append(y_pred)"
   ]
  },
  {
   "cell_type": "code",
   "execution_count": 18,
   "metadata": {},
   "outputs": [],
   "source": [
    "y_pred_1 = result[0]\n",
    "y_pred_5 = result[1]\n",
    "y_pred_10 = result[2]\n",
    "y_pred_50 = result[3]"
   ]
  },
  {
   "cell_type": "code",
   "execution_count": 19,
   "metadata": {},
   "outputs": [
    {
     "name": "stdout",
     "output_type": "stream",
     "text": [
      "Accuracy with 1 neighbor: 1.0\n",
      "Accuracy with 5 neighbors: 0.803886925795053\n",
      "Accuracy with 10 neighbors: 0.7614840989399293\n",
      "Accuracy with 50 neighbors: 0.7393992932862191\n"
     ]
    }
   ],
   "source": [
    "print(\"Accuracy with 1 neighbor:\",metrics.accuracy_score(y_train, y_pred_1))\n",
    "print(\"Accuracy with 5 neighbors:\",metrics.accuracy_score(y_train, y_pred_5))\n",
    "print(\"Accuracy with 10 neighbors:\",metrics.accuracy_score(y_train, y_pred_10))\n",
    "print(\"Accuracy with 50 neighbors:\",metrics.accuracy_score(y_train, y_pred_50))"
   ]
  },
  {
   "cell_type": "code",
   "execution_count": 20,
   "metadata": {},
   "outputs": [],
   "source": [
    "from sklearn.model_selection import cross_val_score, GridSearchCV\n",
    "knn = KNeighborsClassifier()\n",
    "cv_results = cross_val_score(knn,X_train,y_train,cv=5)"
   ]
  },
  {
   "cell_type": "code",
   "execution_count": 21,
   "metadata": {},
   "outputs": [
    {
     "name": "stdout",
     "output_type": "stream",
     "text": [
      "0.707586448871389\n"
     ]
    }
   ],
   "source": [
    "print(cv_results.mean())"
   ]
  },
  {
   "cell_type": "code",
   "execution_count": 22,
   "metadata": {},
   "outputs": [
    {
     "data": {
      "text/plain": [
       "GridSearchCV(cv=5, error_score=nan,\n",
       "             estimator=KNeighborsClassifier(algorithm='auto', leaf_size=30,\n",
       "                                            metric='minkowski',\n",
       "                                            metric_params=None, n_jobs=None,\n",
       "                                            n_neighbors=5, p=2,\n",
       "                                            weights='uniform'),\n",
       "             iid='deprecated', n_jobs=None,\n",
       "             param_grid={'n_neighbors': array([ 1,  2,  3,  4,  5,  6,  7,  8,  9, 10, 11, 12, 13, 14, 15, 16, 17,\n",
       "       18, 19, 20, 21, 22, 23, 24, 25, 26, 27, 28, 29, 30, 31, 32, 33, 34,\n",
       "       35, 36, 37, 38, 39, 40, 41, 42, 43, 44, 45, 46, 47, 48, 49])},\n",
       "             pre_dispatch='2*n_jobs', refit=True, return_train_score=False,\n",
       "             scoring=None, verbose=0)"
      ]
     },
     "execution_count": 22,
     "metadata": {},
     "output_type": "execute_result"
    }
   ],
   "source": [
    "grid = {\"n_neighbors\": np.arange(1,50)}\n",
    "knn_cv = GridSearchCV(knn, grid, cv=5)\n",
    "knn_cv.fit(X_train,y_train)"
   ]
  },
  {
   "cell_type": "code",
   "execution_count": 23,
   "metadata": {},
   "outputs": [
    {
     "data": {
      "text/plain": [
       "{'n_neighbors': 38}"
      ]
     },
     "execution_count": 23,
     "metadata": {},
     "output_type": "execute_result"
    }
   ],
   "source": [
    "knn_cv.best_params_"
   ]
  },
  {
   "cell_type": "code",
   "execution_count": 31,
   "metadata": {},
   "outputs": [
    {
     "data": {
      "text/plain": [
       "0.7234883630267825"
      ]
     },
     "execution_count": 31,
     "metadata": {},
     "output_type": "execute_result"
    }
   ],
   "source": [
    "knn_cv.best_score_\n"
   ]
  },
  {
   "cell_type": "code",
   "execution_count": 25,
   "metadata": {},
   "outputs": [
    {
     "data": {
      "text/plain": [
       "KNeighborsClassifier(algorithm='auto', leaf_size=30, metric='minkowski',\n",
       "                     metric_params=None, n_jobs=None, n_neighbors=38, p=2,\n",
       "                     weights='uniform')"
      ]
     },
     "execution_count": 25,
     "metadata": {},
     "output_type": "execute_result"
    }
   ],
   "source": [
    "# after this I can see that 38 seems to be the best so i run it\n",
    "\n",
    "knn = KNeighborsClassifier(n_neighbors=38)\n",
    "knn.fit(X_train,y_train)"
   ]
  },
  {
   "cell_type": "code",
   "execution_count": 26,
   "metadata": {},
   "outputs": [],
   "source": [
    "y_pred_38 = knn.predict(X_test)"
   ]
  },
  {
   "cell_type": "code",
   "execution_count": 28,
   "metadata": {
    "scrolled": true
   },
   "outputs": [
    {
     "data": {
      "text/plain": [
       "0.7393992932862191"
      ]
     },
     "execution_count": 28,
     "metadata": {},
     "output_type": "execute_result"
    }
   ],
   "source": [
    "metrics.accuracy_score(y_pred,y_train)"
   ]
  }
 ],
 "metadata": {
  "kernelspec": {
   "display_name": "Python 3",
   "language": "python",
   "name": "python3"
  },
  "language_info": {
   "codemirror_mode": {
    "name": "ipython",
    "version": 3
   },
   "file_extension": ".py",
   "mimetype": "text/x-python",
   "name": "python",
   "nbconvert_exporter": "python",
   "pygments_lexer": "ipython3",
   "version": "3.7.6"
  }
 },
 "nbformat": 4,
 "nbformat_minor": 4
}
